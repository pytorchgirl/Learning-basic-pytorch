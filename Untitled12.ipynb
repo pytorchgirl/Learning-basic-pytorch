{
  "nbformat": 4,
  "nbformat_minor": 0,
  "metadata": {
    "colab": {
      "name": "Untitled12.ipynb",
      "provenance": []
    },
    "kernelspec": {
      "name": "python3",
      "display_name": "Python 3"
    },
    "language_info": {
      "name": "python"
    },
    "accelerator": "GPU"
  },
  "cells": [
    {
      "cell_type": "code",
      "metadata": {
        "id": "vFhq7yyjpwYk"
      },
      "source": [
        "import requests"
      ],
      "execution_count": 4,
      "outputs": []
    },
    {
      "cell_type": "code",
      "metadata": {
        "id": "GBh0IOnzrZ-0"
      },
      "source": [
        "import numpy as np\n",
        "import matplotlib.pyplot as plt\n",
        "import torch\n",
        "%matplotlib inline"
      ],
      "execution_count": 5,
      "outputs": []
    },
    {
      "cell_type": "code",
      "metadata": {
        "id": "SplPFhlksC1N"
      },
      "source": [
        "data = np.genfromtxt('/content/perceptron_toydata.txt', delimiter ='\\t') #genfromtxt() function. \n",
        "#The genfromtxt() used to load data from a text file, with missing values handled as specified.\n",
        "\n"
      ],
      "execution_count": 6,
      "outputs": []
    },
    {
      "cell_type": "code",
      "metadata": {
        "colab": {
          "base_uri": "https://localhost:8080/"
        },
        "id": "97Ej0tsiFxSL",
        "outputId": "152571f7-05a7-424c-8fce-9193407f5d6b"
      },
      "source": [
        "print(data)"
      ],
      "execution_count": 7,
      "outputs": [
        {
          "output_type": "stream",
          "text": [
            "[[ 0.77 -1.14  0.  ]\n",
            " [-0.33  1.44  0.  ]\n",
            " [ 0.91 -3.07  0.  ]\n",
            " [-0.37 -1.91  0.  ]\n",
            " [-1.84 -1.13  0.  ]\n",
            " [-1.5   0.34  0.  ]\n",
            " [-0.63 -1.53  0.  ]\n",
            " [-1.08 -1.23  0.  ]\n",
            " [ 0.39 -1.99  0.  ]\n",
            " [-1.26 -2.9   0.  ]\n",
            " [-5.27 -0.78  0.  ]\n",
            " [-0.49 -2.74  0.  ]\n",
            " [ 1.48 -3.74  0.  ]\n",
            " [-1.64 -1.96  0.  ]\n",
            " [ 0.45  0.36  0.  ]\n",
            " [-1.48 -1.17  0.  ]\n",
            " [-2.94 -4.47  0.  ]\n",
            " [-2.19 -1.48  0.  ]\n",
            " [ 0.02 -0.02  0.  ]\n",
            " [-2.24 -2.12  0.  ]\n",
            " [-3.17 -3.69  0.  ]\n",
            " [-4.09  1.03  0.  ]\n",
            " [-2.41 -2.31  0.  ]\n",
            " [-3.45 -0.61  0.  ]\n",
            " [-3.96 -2.    0.  ]\n",
            " [-2.95 -1.16  0.  ]\n",
            " [-2.42 -3.35  0.  ]\n",
            " [-1.74 -1.1   0.  ]\n",
            " [-1.61 -1.28  0.  ]\n",
            " [-2.59 -2.21  0.  ]\n",
            " [-2.64 -2.2   0.  ]\n",
            " [-2.84 -4.12  0.  ]\n",
            " [-1.45 -2.26  0.  ]\n",
            " [-3.98 -1.05  0.  ]\n",
            " [-2.97 -1.63  0.  ]\n",
            " [-0.68 -1.52  0.  ]\n",
            " [-0.1  -3.43  0.  ]\n",
            " [-1.14 -2.66  0.  ]\n",
            " [-2.92 -2.51  0.  ]\n",
            " [-2.14 -1.62  0.  ]\n",
            " [-3.33 -0.44  0.  ]\n",
            " [-1.05 -3.85  0.  ]\n",
            " [ 0.38  0.95  0.  ]\n",
            " [-0.05 -1.95  0.  ]\n",
            " [-3.2  -0.22  0.  ]\n",
            " [-2.26  0.01  0.  ]\n",
            " [-1.41 -0.33  0.  ]\n",
            " [-1.2  -0.71  0.  ]\n",
            " [-1.69  0.8   0.  ]\n",
            " [-1.52 -1.14  0.  ]\n",
            " [ 3.88  0.65  1.  ]\n",
            " [ 0.73  2.97  1.  ]\n",
            " [ 0.83  3.94  1.  ]\n",
            " [ 1.59  1.25  1.  ]\n",
            " [ 3.92  3.48  1.  ]\n",
            " [ 3.87  2.91  1.  ]\n",
            " [ 1.14  3.91  1.  ]\n",
            " [ 1.73  2.8   1.  ]\n",
            " [ 2.95  1.84  1.  ]\n",
            " [ 2.61  2.92  1.  ]\n",
            " [ 2.38  0.9   1.  ]\n",
            " [ 2.3   3.33  1.  ]\n",
            " [ 1.31  1.85  1.  ]\n",
            " [ 1.56  3.85  1.  ]\n",
            " [ 2.67  2.41  1.  ]\n",
            " [ 1.23  2.54  1.  ]\n",
            " [ 1.33  2.03  1.  ]\n",
            " [ 1.36  2.68  1.  ]\n",
            " [ 2.58  1.79  1.  ]\n",
            " [ 2.4   0.91  1.  ]\n",
            " [ 0.51  2.44  1.  ]\n",
            " [ 2.17  2.64  1.  ]\n",
            " [ 4.38  2.94  1.  ]\n",
            " [ 1.09  3.12  1.  ]\n",
            " [ 0.68  1.54  1.  ]\n",
            " [ 1.93  3.71  1.  ]\n",
            " [ 1.26  1.17  1.  ]\n",
            " [ 1.9   1.34  1.  ]\n",
            " [ 3.13  0.92  1.  ]\n",
            " [ 0.85  1.56  1.  ]\n",
            " [ 1.5   3.93  1.  ]\n",
            " [ 2.95  2.09  1.  ]\n",
            " [ 0.77  2.84  1.  ]\n",
            " [ 1.    0.46  1.  ]\n",
            " [ 3.19  2.32  1.  ]\n",
            " [ 2.92  2.32  1.  ]\n",
            " [ 2.86  1.35  1.  ]\n",
            " [ 0.97  2.68  1.  ]\n",
            " [ 1.2   1.31  1.  ]\n",
            " [ 1.54  2.02  1.  ]\n",
            " [ 1.65  0.63  1.  ]\n",
            " [ 1.36 -0.22  1.  ]\n",
            " [ 2.63  0.4   1.  ]\n",
            " [ 0.9   2.05  1.  ]\n",
            " [ 1.26  3.54  1.  ]\n",
            " [ 0.71  2.27  1.  ]\n",
            " [ 1.96  0.83  1.  ]\n",
            " [ 2.52  1.83  1.  ]\n",
            " [ 2.77  2.82  1.  ]\n",
            " [ 4.16  3.34  1.  ]]\n"
          ],
          "name": "stdout"
        }
      ]
    },
    {
      "cell_type": "code",
      "metadata": {
        "colab": {
          "base_uri": "https://localhost:8080/"
        },
        "id": "H6YQ1K-L6eX1",
        "outputId": "7f850a14-4d36-479c-b821-e71d0d700f84"
      },
      "source": [
        "X= data[:,:2]\n",
        "print(X)"
      ],
      "execution_count": 8,
      "outputs": [
        {
          "output_type": "stream",
          "text": [
            "[[ 0.77 -1.14]\n",
            " [-0.33  1.44]\n",
            " [ 0.91 -3.07]\n",
            " [-0.37 -1.91]\n",
            " [-1.84 -1.13]\n",
            " [-1.5   0.34]\n",
            " [-0.63 -1.53]\n",
            " [-1.08 -1.23]\n",
            " [ 0.39 -1.99]\n",
            " [-1.26 -2.9 ]\n",
            " [-5.27 -0.78]\n",
            " [-0.49 -2.74]\n",
            " [ 1.48 -3.74]\n",
            " [-1.64 -1.96]\n",
            " [ 0.45  0.36]\n",
            " [-1.48 -1.17]\n",
            " [-2.94 -4.47]\n",
            " [-2.19 -1.48]\n",
            " [ 0.02 -0.02]\n",
            " [-2.24 -2.12]\n",
            " [-3.17 -3.69]\n",
            " [-4.09  1.03]\n",
            " [-2.41 -2.31]\n",
            " [-3.45 -0.61]\n",
            " [-3.96 -2.  ]\n",
            " [-2.95 -1.16]\n",
            " [-2.42 -3.35]\n",
            " [-1.74 -1.1 ]\n",
            " [-1.61 -1.28]\n",
            " [-2.59 -2.21]\n",
            " [-2.64 -2.2 ]\n",
            " [-2.84 -4.12]\n",
            " [-1.45 -2.26]\n",
            " [-3.98 -1.05]\n",
            " [-2.97 -1.63]\n",
            " [-0.68 -1.52]\n",
            " [-0.1  -3.43]\n",
            " [-1.14 -2.66]\n",
            " [-2.92 -2.51]\n",
            " [-2.14 -1.62]\n",
            " [-3.33 -0.44]\n",
            " [-1.05 -3.85]\n",
            " [ 0.38  0.95]\n",
            " [-0.05 -1.95]\n",
            " [-3.2  -0.22]\n",
            " [-2.26  0.01]\n",
            " [-1.41 -0.33]\n",
            " [-1.2  -0.71]\n",
            " [-1.69  0.8 ]\n",
            " [-1.52 -1.14]\n",
            " [ 3.88  0.65]\n",
            " [ 0.73  2.97]\n",
            " [ 0.83  3.94]\n",
            " [ 1.59  1.25]\n",
            " [ 3.92  3.48]\n",
            " [ 3.87  2.91]\n",
            " [ 1.14  3.91]\n",
            " [ 1.73  2.8 ]\n",
            " [ 2.95  1.84]\n",
            " [ 2.61  2.92]\n",
            " [ 2.38  0.9 ]\n",
            " [ 2.3   3.33]\n",
            " [ 1.31  1.85]\n",
            " [ 1.56  3.85]\n",
            " [ 2.67  2.41]\n",
            " [ 1.23  2.54]\n",
            " [ 1.33  2.03]\n",
            " [ 1.36  2.68]\n",
            " [ 2.58  1.79]\n",
            " [ 2.4   0.91]\n",
            " [ 0.51  2.44]\n",
            " [ 2.17  2.64]\n",
            " [ 4.38  2.94]\n",
            " [ 1.09  3.12]\n",
            " [ 0.68  1.54]\n",
            " [ 1.93  3.71]\n",
            " [ 1.26  1.17]\n",
            " [ 1.9   1.34]\n",
            " [ 3.13  0.92]\n",
            " [ 0.85  1.56]\n",
            " [ 1.5   3.93]\n",
            " [ 2.95  2.09]\n",
            " [ 0.77  2.84]\n",
            " [ 1.    0.46]\n",
            " [ 3.19  2.32]\n",
            " [ 2.92  2.32]\n",
            " [ 2.86  1.35]\n",
            " [ 0.97  2.68]\n",
            " [ 1.2   1.31]\n",
            " [ 1.54  2.02]\n",
            " [ 1.65  0.63]\n",
            " [ 1.36 -0.22]\n",
            " [ 2.63  0.4 ]\n",
            " [ 0.9   2.05]\n",
            " [ 1.26  3.54]\n",
            " [ 0.71  2.27]\n",
            " [ 1.96  0.83]\n",
            " [ 2.52  1.83]\n",
            " [ 2.77  2.82]\n",
            " [ 4.16  3.34]]\n"
          ],
          "name": "stdout"
        }
      ]
    },
    {
      "cell_type": "code",
      "metadata": {
        "colab": {
          "base_uri": "https://localhost:8080/"
        },
        "id": "zY386ySQ7hCL",
        "outputId": "b75fd215-a7cd-4b6c-a229-0b5af146e414"
      },
      "source": [
        "y = data[:, 2]\n",
        "print(y)"
      ],
      "execution_count": 9,
      "outputs": [
        {
          "output_type": "stream",
          "text": [
            "[0. 0. 0. 0. 0. 0. 0. 0. 0. 0. 0. 0. 0. 0. 0. 0. 0. 0. 0. 0. 0. 0. 0. 0.\n",
            " 0. 0. 0. 0. 0. 0. 0. 0. 0. 0. 0. 0. 0. 0. 0. 0. 0. 0. 0. 0. 0. 0. 0. 0.\n",
            " 0. 0. 1. 1. 1. 1. 1. 1. 1. 1. 1. 1. 1. 1. 1. 1. 1. 1. 1. 1. 1. 1. 1. 1.\n",
            " 1. 1. 1. 1. 1. 1. 1. 1. 1. 1. 1. 1. 1. 1. 1. 1. 1. 1. 1. 1. 1. 1. 1. 1.\n",
            " 1. 1. 1. 1.]\n"
          ],
          "name": "stdout"
        }
      ]
    },
    {
      "cell_type": "code",
      "metadata": {
        "colab": {
          "base_uri": "https://localhost:8080/"
        },
        "id": "o-WQbUSZF4Su",
        "outputId": "4febb76e-c284-40fe-deac-138be4f9ce5b"
      },
      "source": [
        "print('X.shape:',X.shape)\n",
        "print('y.shape:',y.shape)"
      ],
      "execution_count": 10,
      "outputs": [
        {
          "output_type": "stream",
          "text": [
            "X.shape: (100, 2)\n",
            "y.shape: (100,)\n"
          ],
          "name": "stdout"
        }
      ]
    },
    {
      "cell_type": "code",
      "metadata": {
        "colab": {
          "base_uri": "https://localhost:8080/"
        },
        "id": "xZ8gDGSbKTJx",
        "outputId": "6df31e44-dc07-4e73-e35c-ff4aaf1ccac5"
      },
      "source": [
        "print(y.shape[0])"
      ],
      "execution_count": 11,
      "outputs": [
        {
          "output_type": "stream",
          "text": [
            "100\n"
          ],
          "name": "stdout"
        }
      ]
    },
    {
      "cell_type": "code",
      "metadata": {
        "colab": {
          "base_uri": "https://localhost:8080/"
        },
        "id": "vSzoOTzrGFng",
        "outputId": "50d4d0a0-d0f0-42f3-9b15-52adeecc1f01"
      },
      "source": [
        "#X is the train set and y is the test set\n",
        "shuffle_idx = np.arange(y.shape[0])\n",
        "print(shuffle_idx)"
      ],
      "execution_count": 12,
      "outputs": [
        {
          "output_type": "stream",
          "text": [
            "[ 0  1  2  3  4  5  6  7  8  9 10 11 12 13 14 15 16 17 18 19 20 21 22 23\n",
            " 24 25 26 27 28 29 30 31 32 33 34 35 36 37 38 39 40 41 42 43 44 45 46 47\n",
            " 48 49 50 51 52 53 54 55 56 57 58 59 60 61 62 63 64 65 66 67 68 69 70 71\n",
            " 72 73 74 75 76 77 78 79 80 81 82 83 84 85 86 87 88 89 90 91 92 93 94 95\n",
            " 96 97 98 99]\n"
          ],
          "name": "stdout"
        }
      ]
    },
    {
      "cell_type": "code",
      "metadata": {
        "colab": {
          "base_uri": "https://localhost:8080/"
        },
        "id": "CUP1MuqsKOP1",
        "outputId": "7972950c-8f03-47cf-9252-ef67bac89f08"
      },
      "source": [
        "je = np.arange(6)\n",
        "print(je)"
      ],
      "execution_count": 13,
      "outputs": [
        {
          "output_type": "stream",
          "text": [
            "[0 1 2 3 4 5]\n"
          ],
          "name": "stdout"
        }
      ]
    },
    {
      "cell_type": "code",
      "metadata": {
        "colab": {
          "base_uri": "https://localhost:8080/"
        },
        "id": "LXREir34Kt48",
        "outputId": "101e066e-d977-40b8-ec84-c467894c8ed4"
      },
      "source": [
        "shuffle_rng= np.random.RandomState(123)\n",
        "print(shuffle_rng)"
      ],
      "execution_count": 14,
      "outputs": [
        {
          "output_type": "stream",
          "text": [
            "RandomState(MT19937)\n"
          ],
          "name": "stdout"
        }
      ]
    },
    {
      "cell_type": "code",
      "metadata": {
        "id": "yuw5L2JrK4rm"
      },
      "source": [
        "# np.random.RandomState() -> RandomState and Generator expose a number of methods for generating\n",
        "# random numbers drawn from a variety of probability distributions. In\n",
        "# addition to the distribution-specific arguments, each method takes a\n",
        "# keyword argument size that defaults to None"
      ],
      "execution_count": 15,
      "outputs": []
    },
    {
      "cell_type": "code",
      "metadata": {
        "id": "k0y-W2_dMbb_"
      },
      "source": [
        "shuffle_rng.shuffle(shuffle_idx)"
      ],
      "execution_count": 16,
      "outputs": []
    },
    {
      "cell_type": "code",
      "metadata": {
        "id": "wuzPGCatLVYz"
      },
      "source": [
        "X, y = X[shuffle_idx], y[shuffle_idx] #This is the shuffled index\n"
      ],
      "execution_count": 17,
      "outputs": []
    },
    {
      "cell_type": "code",
      "metadata": {
        "id": "ChIfcgsiLi5x"
      },
      "source": [
        "X_train, X_test = X[shuffle_idx[:70]],X[shuffle_idx[70:]]\n",
        "y_train, y_test = y[shuffle_idx[:70]],y[shuffle_idx[70:]]\n"
      ],
      "execution_count": 18,
      "outputs": []
    },
    {
      "cell_type": "code",
      "metadata": {
        "colab": {
          "base_uri": "https://localhost:8080/"
        },
        "id": "uvb2yhneLzAR",
        "outputId": "d461b443-8d9a-4261-ed21-8dbb20306858"
      },
      "source": [
        "print(y_train)"
      ],
      "execution_count": 19,
      "outputs": [
        {
          "output_type": "stream",
          "text": [
            "[1. 0. 1. 1. 0. 0. 0. 0. 1. 1. 0. 0. 1. 0. 0. 0. 1. 1. 0. 0. 1. 1. 1. 0.\n",
            " 1. 0. 1. 0. 0. 1. 1. 0. 1. 0. 1. 1. 1. 0. 0. 1. 0. 0. 1. 0. 1. 0. 1. 0.\n",
            " 0. 0. 1. 1. 0. 1. 0. 1. 0. 0. 0. 1. 0. 1. 1. 1. 0. 0. 1. 0. 0. 0.]\n"
          ],
          "name": "stdout"
        }
      ]
    },
    {
      "cell_type": "code",
      "metadata": {
        "colab": {
          "base_uri": "https://localhost:8080/"
        },
        "id": "XCnALtLLL7bR",
        "outputId": "56894639-492c-42ac-d302-ed2b57fa0aa4"
      },
      "source": [
        "print(y_test)"
      ],
      "execution_count": 20,
      "outputs": [
        {
          "output_type": "stream",
          "text": [
            "[0. 1. 0. 1. 1. 0. 1. 0. 1. 0. 1. 1. 1. 1. 1. 0. 1. 1. 1. 1. 0. 0. 1. 1.\n",
            " 0. 0. 0. 0. 1. 1.]\n"
          ],
          "name": "stdout"
        }
      ]
    },
    {
      "cell_type": "code",
      "metadata": {
        "id": "Xd_ziiy1MVex"
      },
      "source": [
        "#Normalize(mean zero, unit variance)\n",
        "nu, sigma = X_train.mean(axis = 0), X_train.std(axis=0)\n",
        "X_train = (X_train - nu)/ sigma\n",
        "X_test = (X_test - nu)/ sigma"
      ],
      "execution_count": 21,
      "outputs": []
    },
    {
      "cell_type": "code",
      "metadata": {
        "colab": {
          "base_uri": "https://localhost:8080/"
        },
        "id": "lQ6lP4tYNErG",
        "outputId": "323fa5a6-dc12-4560-db9c-dff771023c2d"
      },
      "source": [
        "print(X_train[:5])"
      ],
      "execution_count": 22,
      "outputs": [
        {
          "output_type": "stream",
          "text": [
            "[[ 1.37001499  0.89400639]\n",
            " [-1.47257051 -0.30436276]\n",
            " [ 1.78644472  1.28241061]\n",
            " [ 0.75442323  0.49612888]\n",
            " [-0.70760722 -1.02433157]]\n"
          ],
          "name": "stdout"
        }
      ]
    },
    {
      "cell_type": "code",
      "metadata": {
        "colab": {
          "base_uri": "https://localhost:8080/",
          "height": 296
        },
        "id": "ZO7EedDUNL5f",
        "outputId": "3d3b5f23-11ee-4097-f2fc-692cf289bdd0"
      },
      "source": [
        "plt.scatter(X_train[y_train ==0,0],X_train[y_train==0,1], label='class 0')\n",
        "plt.scatter(X_train[y_train==1,0],X_train[y_train==1,1], label = \"class 1\")\n",
        "plt.xlabel('First column')\n",
        "plt.ylabel('Second column')"
      ],
      "execution_count": 23,
      "outputs": [
        {
          "output_type": "execute_result",
          "data": {
            "text/plain": [
              "Text(0, 0.5, 'Second column')"
            ]
          },
          "metadata": {
            "tags": []
          },
          "execution_count": 23
        },
        {
          "output_type": "display_data",
          "data": {
            "image/png": "[encoded data removed]",
            "text/plain": [
              "<Figure size 432x288 with 1 Axes>"
            ]
          },
          "metadata": {
            "tags": [],
            "needs_background": "light"
          }
        }
      ]
    },
    {
      "cell_type": "code",
      "metadata": {
        "id": "TyYcwWJpOwUl"
      },
      "source": [
        "# #Defining the perceptron model\n",
        "# def custom_where(cond, x1 , x2):\n",
        "#   return (cond*x1) + ((1-cond)*x2)\n",
        "# class Perceptron():\n",
        "#   def __init__(self, num_features):\n",
        "#     self.num_features = num_features\n",
        "#     self.weights = torch.zeros(num_features, 1 , dtype = torch.float32, device = device)\n",
        "#     self.bias = torch.zeros(1, dtype= torch.float32, device = device)\n",
        "\n",
        "#   def forward(self, x):\n",
        "#     linear = torch.add(torch.mm(x, self.weights), self.bias)\n",
        "#     predictions = custom_where(linear > 0., 1,0).float()\n",
        "#     return predictions\n",
        "  \n",
        "#   def backward(self, x,y):\n",
        "#     predictions = self.forward(x)\n",
        "#     error = 1 - predictions\n",
        "#     return error\n",
        "\n",
        "#   def train(self, x, y , epochs):\n",
        "#     for e in range(epochs):\n",
        "#       for i in range(y.size()[0]):\n",
        "#         errors = self.backward(x[i].view(1, self.num_features),y[i]).view(-1)\n",
        "#         self.weights += (errors*x[i]).view(self.num_features,1)\n",
        "#         self. bias += errors\n",
        "\n",
        "#   def evaluate(self, x, y):\n",
        "#     predictions = self.forward(x).view(-1)\n",
        "#     accuracy = torch.sum(predictions ==y).float() / y.size()[0]\n",
        "#     return accuracy  "
      ],
      "execution_count": 24,
      "outputs": []
    },
    {
      "cell_type": "code",
      "metadata": {
        "id": "qrnYQunMT_GV"
      },
      "source": [
        "device = torch.device(\"cuda:0\" if torch.cuda.is_available() else \"cpu\")\n",
        "\n",
        "\n",
        "def custom_where(cond, x_1, x_2):\n",
        "    return (cond * x_1) + (~cond * x_2)\n",
        "\n",
        "\n",
        "class Perceptron():\n",
        "    def __init__(self, num_features):\n",
        "        self.num_features = num_features\n",
        "        self.weights = torch.zeros(num_features, 1, \n",
        "                                   dtype=torch.float32, device=device)\n",
        "        self.bias = torch.zeros(1, dtype=torch.float32, device=device)\n",
        "\n",
        "    def forward(self, x):\n",
        "        linear = torch.add(torch.mm(x, self.weights), self.bias)\n",
        "        predictions = custom_where(linear > 0., 1, 0).float()\n",
        "        return predictions\n",
        "        \n",
        "    def backward(self, x, y):  \n",
        "        predictions = self.forward(x)\n",
        "        errors = y - predictions\n",
        "        return errors\n",
        "        \n",
        "    def train(self, x, y, epochs):\n",
        "        for e in range(epochs):\n",
        "            \n",
        "            for i in range(y.size()[0]):\n",
        "                # use view because backward expects a matrix (i.e., 2D tensor)\n",
        "                errors = self.backward(x[i].view(1, self.num_features), y[i]).view(-1)\n",
        "                self.weights += (errors * x[i]).view(self.num_features, 1)\n",
        "                self.bias += errors\n",
        "                \n",
        "    def evaluate(self, x, y):\n",
        "        predictions = self.forward(x).view(-1)\n",
        "        accuracy = torch.sum(predictions == y).float() / y.size()[0]\n",
        "        return accuracy"
      ],
      "execution_count": 27,
      "outputs": []
    },
    {
      "cell_type": "code",
      "metadata": {
        "colab": {
          "base_uri": "https://localhost:8080/"
        },
        "id": "5mKizNo7QMeF",
        "outputId": "dfcc3666-5f1a-4a47-b1a1-7b5046d5cb95"
      },
      "source": [
        "ppn = Perceptron(num_features=2)\n",
        "\n",
        "X_train_tensor = torch.tensor(X_train, dtype=torch.float32, device=device)\n",
        "y_train_tensor = torch.tensor(y_train, dtype=torch.float32, device=device)\n",
        "\n",
        "ppn.train(X_train_tensor, y_train_tensor, epochs=5)\n",
        "\n",
        "print('Model parameters:')\n",
        "print('  Weights: %s' % ppn.weights)\n",
        "print('  Bias: %s' % ppn.bias)"
      ],
      "execution_count": 28,
      "outputs": [
        {
          "output_type": "stream",
          "text": [
            "Model parameters:\n",
            "  Weights: tensor([[1.2734],\n",
            "        [1.3464]], device='cuda:0')\n",
            "  Bias: tensor([-1.], device='cuda:0')\n"
          ],
          "name": "stdout"
        }
      ]
    },
    {
      "cell_type": "code",
      "metadata": {
        "colab": {
          "base_uri": "https://localhost:8080/"
        },
        "id": "mOgZA4arTqCT",
        "outputId": "5730f284-1aa3-474e-a666-af724018cf2e"
      },
      "source": [
        "X_test_tensor = torch.tensor(X_test, dtype=torch.float32, device=device)\n",
        "y_test_tensor = torch.tensor(y_test, dtype=torch.float32, device=device)\n",
        "\n",
        "test_acc = ppn.evaluate(X_test_tensor, y_test_tensor)\n",
        "print('Test set accuracy: %.2f%%' % (test_acc*100))"
      ],
      "execution_count": 29,
      "outputs": [
        {
          "output_type": "stream",
          "text": [
            "Test set accuracy: 93.33%\n"
          ],
          "name": "stdout"
        }
      ]
    },
    {
      "cell_type": "code",
      "metadata": {
        "colab": {
          "base_uri": "https://localhost:8080/"
        },
        "id": "w84gKm0oVbBn",
        "outputId": "ab217226-2c0a-4d57-d4b0-0ba594211ff5"
      },
      "source": [
        "w, b = ppn.weights, ppn.bias\n",
        "print(w)"
      ],
      "execution_count": 30,
      "outputs": [
        {
          "output_type": "stream",
          "text": [
            "tensor([[1.2734],\n",
            "        [1.3464]], device='cuda:0')\n"
          ],
          "name": "stdout"
        }
      ]
    },
    {
      "cell_type": "code",
      "metadata": {
        "colab": {
          "base_uri": "https://localhost:8080/",
          "height": 211
        },
        "id": "16hiLMZkVjlH",
        "outputId": "7f29f012-3f3e-40b0-9f0b-0c8d9367a74d"
      },
      "source": [
        "x_min = -2\n",
        "y_min = ( (-(w[0] * x_min) - b[0]) \n",
        "          / w[1] )\n",
        "\n",
        "x_max = 2\n",
        "y_max = ( (-(w[0] * x_max) - b[0]) \n",
        "          / w[1] )\n",
        "\n",
        "\n",
        "fig, ax = plt.subplots(1, 2, sharex=True, figsize=(7, 3))\n",
        "\n",
        "ax[0].plot([x_min, x_max], [y_min, y_max])\n",
        "ax[1].plot([x_min, x_max], [y_min, y_max])\n",
        "\n",
        "ax[0].scatter(X_train[y_train==0, 0], X_train[y_train==0, 1], label='class 0', marker='o')\n",
        "ax[0].scatter(X_train[y_train==1, 0], X_train[y_train==1, 1], label='class 1', marker='s')\n",
        "\n",
        "ax[1].scatter(X_test[y_test==0, 0], X_test[y_test==0, 1], label='class 0', marker='o')\n",
        "ax[1].scatter(X_test[y_test==1, 0], X_test[y_test==1, 1], label='class 1', marker='s')\n",
        "\n",
        "\n",
        "plt.show()"
      ],
      "execution_count": 33,
      "outputs": [
        {
          "output_type": "display_data",
          "data": {
            "image/png": "[encoded data removed]",
            "text/plain": [
              "<Figure size 504x216 with 2 Axes>"
            ]
          },
          "metadata": {
            "tags": [],
            "needs_background": "light"
          }
        }
      ]
    },
    {
      "cell_type": "code",
      "metadata": {
        "colab": {
          "base_uri": "https://localhost:8080/",
          "height": 211
        },
        "id": "oyMNgJXJVvxl",
        "outputId": "0af582c4-6e60-4ef2-de1f-6749217e83a2"
      },
      "source": [
        "x_min = -2\n",
        "y_min = ( (-(w[0] * x_min) - b[0]) \n",
        "          / w[1] )\n",
        "\n",
        "x_max = 2\n",
        "y_max = ( (-(w[0] * x_max) - b[0]) \n",
        "          / w[1] )\n",
        "\n",
        "\n",
        "fig, ax = plt.subplots(1, 2, sharex=True, figsize=(7, 3))\n",
        "\n",
        "ax[0].plot([x_min, x_max], [y_min, y_max])\n",
        "ax[1].plot([x_min, x_max], [y_min, y_max])\n",
        "\n",
        "ax[0].scatter(X_train[y_train==0, 0], X_train[y_train==0, 1], label='class 0', marker='o')\n",
        "ax[0].scatter(X_train[y_train==1, 0], X_train[y_train==1, 1], label='class 1', marker='s')\n",
        "\n",
        "ax[1].scatter(X_test[y_test==0, 0], X_test[y_test==0, 1], label='class 0', marker='o')\n",
        "ax[1].scatter(X_test[y_test==1, 0], X_test[y_test==1, 1], label='class 1', marker='s')\n",
        "\n",
        "ax[1].legend(loc='upper left')\n",
        "plt.show()"
      ],
      "execution_count": 34,
      "outputs": [
        {
          "output_type": "display_data",
          "data": {
            "image/png": "[encoded data removed]",
            "text/plain": [
              "<Figure size 504x216 with 2 Axes>"
            ]
          },
          "metadata": {
            "tags": [],
            "needs_background": "light"
          }
        }
      ]
    },
    {
      "cell_type": "code",
      "metadata": {
        "id": "FU3-uE40V7Lt"
      },
      "source": [
        ""
      ],
      "execution_count": null,
      "outputs": []
    }
  ]
}