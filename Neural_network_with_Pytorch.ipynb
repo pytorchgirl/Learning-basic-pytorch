{
  "nbformat": 4,
  "nbformat_minor": 0,
  "metadata": {
    "colab": {
      "name": "Neural network with Pytorch.ipynb",
      "provenance": []
    },
    "kernelspec": {
      "name": "python3",
      "display_name": "Python 3"
    },
    "language_info": {
      "name": "python"
    }
  },
  "cells": [
    {
      "cell_type": "code",
      "metadata": {
        "id": "dbpMJRZ45l7-"
      },
      "source": [
        "import numpy as np\n",
        "import pandas as pd\n",
        "%matplotlib inline\n",
        "%config InlineBackend.figure_format = 'retina'\n",
        "import helper\n",
        "import matplotlib.pyplot as plt"
      ],
      "execution_count": 1,
      "outputs": []
    },
    {
      "cell_type": "code",
      "metadata": {
        "id": "RZSN4ac2U5GH"
      },
      "source": [
        "from six.moves import urllib\n",
        "opener = urllib.request.build_opener()\n",
        "opener.addheaders = [('User-agent', 'Mozilla/5.0')]\n",
        "urllib.request.install_opener(opener)"
      ],
      "execution_count": 2,
      "outputs": []
    },
    {
      "cell_type": "code",
      "metadata": {
        "id": "mx-XtVnZVhfc",
        "colab": {
          "base_uri": "https://localhost:8080/"
        },
        "outputId": "737b0865-a2e5-481f-bce7-27b69d82fc08"
      },
      "source": [
        "import torch\n",
        "from torchvision import datasets, transforms\n",
        "\n",
        "transform = transforms.Compose([transforms.ToTensor(),\n",
        "                                transforms.Normalize((0.5,),(0.5,)),\n",
        "                                ])\n",
        "trainset = datasets.MNIST('~/.pytorch/MNIST_data/', download = True, train = True, transform = transform)\n",
        "trainloader = torch.utils.data.DataLoader(trainset, batch_size = 64 , shuffle = True)\n"
      ],
      "execution_count": 3,
      "outputs": [
        {
          "output_type": "stream",
          "text": [
            "/usr/local/lib/python3.7/dist-packages/torchvision/datasets/mnist.py:498: UserWarning: The given NumPy array is not writeable, and PyTorch does not support non-writeable tensors. This means you can write to the underlying (supposedly non-writeable) NumPy array using the tensor. You may want to copy the array to protect its data or make it writeable before converting it to a tensor. This type of warning will be suppressed for the rest of this program. (Triggered internally at  /pytorch/torch/csrc/utils/tensor_numpy.cpp:180.)\n",
            "  return torch.from_numpy(parsed.astype(m[2], copy=False)).view(*s)\n"
          ],
          "name": "stderr"
        }
      ]
    },
    {
      "cell_type": "code",
      "metadata": {
        "colab": {
          "base_uri": "https://localhost:8080/"
        },
        "id": "uGO8ETApK1sW",
        "outputId": "a1c44608-49c7-4ccf-dafd-16bd60f34238"
      },
      "source": [
        "dataiter = iter(trainloader)\n",
        "images, labels = dataiter.next()\n",
        "print(type(images))\n",
        "print(images.shape)\n",
        "print(labels.shape)"
      ],
      "execution_count": 4,
      "outputs": [
        {
          "output_type": "stream",
          "text": [
            "<class 'torch.Tensor'>\n",
            "torch.Size([64, 1, 28, 28])\n",
            "torch.Size([64])\n"
          ],
          "name": "stdout"
        }
      ]
    },
    {
      "cell_type": "code",
      "metadata": {
        "colab": {
          "base_uri": "https://localhost:8080/",
          "height": 265
        },
        "id": "x48KBBpMMNmc",
        "outputId": "e4b05b85-413e-4091-c790-0a405e12958c"
      },
      "source": [
        "plt.imshow(images[1].numpy().squeeze());"
      ],
      "execution_count": 5,
      "outputs": [
        {
          "output_type": "display_data",
          "data": {
            "image/png": "[encoded data removed]",
            "text/plain": [
              "<Figure size 432x288 with 1 Axes>"
            ]
          },
          "metadata": {
            "tags": [],
            "image/png": {
              "width": 251,
              "height": 248
            },
            "needs_background": "light"
          }
        }
      ]
    },
    {
      "cell_type": "code",
      "metadata": {
        "id": "dKy0j3nvMX4q"
      },
      "source": [
        "def activation(x):\n",
        "  return 1/(1+torch.exp(-x))\n",
        "\n",
        "inputs = images.view(images.shape[0],-1)\n",
        "w1 = torch.randn(784,256)\n",
        "b1 = torch.randn(256)\n",
        "w2 = torch.randn(256,10)\n",
        "b2 = torch.randn(10)\n",
        "h = activation(torch.matmul(inputs, w1)+b1)\n",
        "out = activation(torch.matmul(h, w2)+b2)"
      ],
      "execution_count": 6,
      "outputs": []
    },
    {
      "cell_type": "code",
      "metadata": {
        "id": "dA9mZPIlOFhi"
      },
      "source": [
        ""
      ],
      "execution_count": 6,
      "outputs": []
    },
    {
      "cell_type": "code",
      "metadata": {
        "colab": {
          "base_uri": "https://localhost:8080/"
        },
        "id": "EqIAAtd-NpJg",
        "outputId": "b55c9762-a91c-4dfd-aa56-692ade504201"
      },
      "source": [
        "probabilities = torch.exp(out)/ torch.sum(torch.exp(out), dim =1).view(-1,1)\n",
        "print(probabilities)"
      ],
      "execution_count": 7,
      "outputs": [
        {
          "output_type": "stream",
          "text": [
            "tensor([[0.1156, 0.1166, 0.1123, 0.0581, 0.1166, 0.0878, 0.0431, 0.1166, 0.1166,\n",
            "         0.1166],\n",
            "        [0.1151, 0.1224, 0.0492, 0.1223, 0.1224, 0.1224, 0.0576, 0.0451, 0.1223,\n",
            "         0.1211],\n",
            "        [0.1074, 0.1086, 0.1079, 0.1086, 0.1087, 0.1006, 0.0400, 0.1073, 0.1024,\n",
            "         0.1087],\n",
            "        [0.1388, 0.1387, 0.1389, 0.0511, 0.1389, 0.0925, 0.0602, 0.0511, 0.0511,\n",
            "         0.1387],\n",
            "        [0.0630, 0.1520, 0.1520, 0.0559, 0.1520, 0.0602, 0.0560, 0.0559, 0.1020,\n",
            "         0.1510],\n",
            "        [0.1391, 0.1394, 0.1394, 0.0601, 0.1394, 0.0521, 0.0661, 0.0518, 0.0733,\n",
            "         0.1394],\n",
            "        [0.0539, 0.1449, 0.1449, 0.0534, 0.1449, 0.0751, 0.0534, 0.0533, 0.1313,\n",
            "         0.1449],\n",
            "        [0.0968, 0.1386, 0.0607, 0.0580, 0.1386, 0.1313, 0.0510, 0.0513, 0.1383,\n",
            "         0.1353],\n",
            "        [0.1242, 0.1243, 0.1204, 0.1241, 0.1243, 0.0505, 0.0457, 0.0459, 0.1164,\n",
            "         0.1243],\n",
            "        [0.1316, 0.0511, 0.1332, 0.1329, 0.1332, 0.1207, 0.0490, 0.0492, 0.0659,\n",
            "         0.1332],\n",
            "        [0.0953, 0.1387, 0.0577, 0.0521, 0.1348, 0.0526, 0.0521, 0.1339, 0.1413,\n",
            "         0.1415],\n",
            "        [0.1441, 0.1445, 0.1444, 0.0546, 0.1445, 0.0616, 0.0551, 0.0532, 0.0535,\n",
            "         0.1445],\n",
            "        [0.0562, 0.1364, 0.0890, 0.1260, 0.1362, 0.1357, 0.0502, 0.0835, 0.0504,\n",
            "         0.1364],\n",
            "        [0.1320, 0.1342, 0.1324, 0.0494, 0.1343, 0.0887, 0.0495, 0.0494, 0.0964,\n",
            "         0.1337],\n",
            "        [0.1452, 0.0541, 0.1452, 0.0535, 0.1452, 0.1267, 0.0534, 0.0534, 0.0793,\n",
            "         0.1441],\n",
            "        [0.1206, 0.1182, 0.1206, 0.1206, 0.1206, 0.0738, 0.0444, 0.0473, 0.1132,\n",
            "         0.1206],\n",
            "        [0.1392, 0.1392, 0.1392, 0.0512, 0.1392, 0.0804, 0.0513, 0.0512, 0.0722,\n",
            "         0.1368],\n",
            "        [0.1204, 0.1254, 0.0468, 0.0463, 0.1257, 0.1083, 0.0530, 0.1228, 0.1255,\n",
            "         0.1257],\n",
            "        [0.1290, 0.1290, 0.1277, 0.0481, 0.1242, 0.1072, 0.0476, 0.0474, 0.1108,\n",
            "         0.1290],\n",
            "        [0.1307, 0.1335, 0.1335, 0.1214, 0.1320, 0.0496, 0.0493, 0.0673, 0.0492,\n",
            "         0.1335],\n",
            "        [0.1208, 0.1207, 0.1191, 0.1208, 0.1208, 0.0452, 0.0656, 0.0455, 0.1207,\n",
            "         0.1207],\n",
            "        [0.0630, 0.1394, 0.1394, 0.1392, 0.1394, 0.0838, 0.0513, 0.0514, 0.0538,\n",
            "         0.1394],\n",
            "        [0.1059, 0.0940, 0.1039, 0.1050, 0.1062, 0.0632, 0.1041, 0.1056, 0.1058,\n",
            "         0.1062],\n",
            "        [0.1582, 0.1589, 0.1566, 0.0585, 0.1589, 0.0693, 0.0585, 0.0585, 0.0587,\n",
            "         0.0639],\n",
            "        [0.1176, 0.1175, 0.1176, 0.0884, 0.1176, 0.0707, 0.0433, 0.0953, 0.1143,\n",
            "         0.1176],\n",
            "        [0.1213, 0.1215, 0.0794, 0.1215, 0.1215, 0.1193, 0.0447, 0.0447, 0.1046,\n",
            "         0.1215],\n",
            "        [0.1251, 0.1255, 0.1255, 0.1229, 0.1254, 0.0900, 0.0462, 0.0467, 0.0672,\n",
            "         0.1255],\n",
            "        [0.1122, 0.1340, 0.0751, 0.0493, 0.1340, 0.1202, 0.1043, 0.0493, 0.0876,\n",
            "         0.1340],\n",
            "        [0.0988, 0.1125, 0.0944, 0.0527, 0.1208, 0.1143, 0.0445, 0.1205, 0.1207,\n",
            "         0.1208],\n",
            "        [0.0924, 0.1191, 0.1189, 0.0440, 0.1191, 0.1045, 0.0666, 0.1166, 0.0997,\n",
            "         0.1191],\n",
            "        [0.1109, 0.1158, 0.1158, 0.0465, 0.1159, 0.1147, 0.0429, 0.1057, 0.1159,\n",
            "         0.1159],\n",
            "        [0.1212, 0.0720, 0.0986, 0.1570, 0.1568, 0.0633, 0.0578, 0.0584, 0.0580,\n",
            "         0.1570],\n",
            "        [0.1159, 0.0551, 0.1166, 0.1145, 0.1166, 0.0887, 0.0441, 0.1152, 0.1166,\n",
            "         0.1166],\n",
            "        [0.1352, 0.0639, 0.0945, 0.1313, 0.1353, 0.1351, 0.0498, 0.0513, 0.0683,\n",
            "         0.1353],\n",
            "        [0.1395, 0.1393, 0.0843, 0.1374, 0.1395, 0.1382, 0.0515, 0.0513, 0.0519,\n",
            "         0.0669],\n",
            "        [0.1313, 0.1339, 0.0583, 0.0500, 0.1339, 0.0546, 0.1302, 0.0498, 0.1242,\n",
            "         0.1339],\n",
            "        [0.1295, 0.1295, 0.1296, 0.0477, 0.1296, 0.1292, 0.0647, 0.0477, 0.0629,\n",
            "         0.1296],\n",
            "        [0.1215, 0.1147, 0.1250, 0.0540, 0.1250, 0.1244, 0.0460, 0.0795, 0.0849,\n",
            "         0.1250],\n",
            "        [0.1284, 0.0483, 0.1259, 0.1275, 0.1205, 0.1004, 0.0475, 0.1261, 0.0472,\n",
            "         0.1281],\n",
            "        [0.1294, 0.0504, 0.1294, 0.0477, 0.1294, 0.0687, 0.0570, 0.1291, 0.1294,\n",
            "         0.1294],\n",
            "        [0.1274, 0.1274, 0.1138, 0.0469, 0.1274, 0.1255, 0.0475, 0.0475, 0.1190,\n",
            "         0.1176],\n",
            "        [0.0585, 0.1268, 0.1268, 0.0469, 0.1269, 0.1083, 0.0467, 0.1257, 0.1065,\n",
            "         0.1269],\n",
            "        [0.1390, 0.1393, 0.1388, 0.0512, 0.1392, 0.0527, 0.0515, 0.0518, 0.0974,\n",
            "         0.1392],\n",
            "        [0.0585, 0.1518, 0.1070, 0.0573, 0.1518, 0.0637, 0.0558, 0.1512, 0.0585,\n",
            "         0.1444],\n",
            "        [0.1309, 0.1300, 0.1307, 0.1300, 0.1309, 0.0540, 0.0482, 0.0580, 0.0564,\n",
            "         0.1309],\n",
            "        [0.1411, 0.0522, 0.0599, 0.0525, 0.1419, 0.0817, 0.0534, 0.1419, 0.1335,\n",
            "         0.1419],\n",
            "        [0.1168, 0.1254, 0.1226, 0.0461, 0.1220, 0.0462, 0.0484, 0.1254, 0.1217,\n",
            "         0.1254],\n",
            "        [0.1258, 0.1259, 0.1259, 0.0465, 0.1259, 0.0479, 0.0464, 0.1041, 0.1257,\n",
            "         0.1259],\n",
            "        [0.0504, 0.1366, 0.0736, 0.1254, 0.1243, 0.1135, 0.0503, 0.1366, 0.0526,\n",
            "         0.1366],\n",
            "        [0.0932, 0.1578, 0.0597, 0.0585, 0.1578, 0.1230, 0.0762, 0.0580, 0.0582,\n",
            "         0.1577],\n",
            "        [0.1462, 0.0982, 0.1017, 0.0575, 0.1563, 0.0593, 0.0575, 0.0958, 0.0713,\n",
            "         0.1563],\n",
            "        [0.0456, 0.1235, 0.1235, 0.1217, 0.1235, 0.1222, 0.0476, 0.0454, 0.1235,\n",
            "         0.1235],\n",
            "        [0.1303, 0.1378, 0.1024, 0.1378, 0.1378, 0.0635, 0.0507, 0.0512, 0.0507,\n",
            "         0.1378],\n",
            "        [0.1250, 0.1287, 0.1286, 0.1236, 0.1287, 0.0474, 0.0474, 0.0935, 0.0484,\n",
            "         0.1287],\n",
            "        [0.1121, 0.1120, 0.1509, 0.0565, 0.1155, 0.0564, 0.0564, 0.0746, 0.1122,\n",
            "         0.1534],\n",
            "        [0.1441, 0.1279, 0.0583, 0.1445, 0.1394, 0.0768, 0.0533, 0.0531, 0.0582,\n",
            "         0.1445],\n",
            "        [0.0973, 0.0982, 0.1096, 0.1086, 0.1096, 0.1092, 0.0403, 0.1096, 0.1082,\n",
            "         0.1095],\n",
            "        [0.1209, 0.1228, 0.1227, 0.0456, 0.1228, 0.1228, 0.0453, 0.0514, 0.1228,\n",
            "         0.1228],\n",
            "        [0.0590, 0.1595, 0.0600, 0.0590, 0.1595, 0.0587, 0.0587, 0.1568, 0.0694,\n",
            "         0.1595],\n",
            "        [0.0522, 0.1323, 0.1286, 0.1278, 0.1323, 0.0492, 0.0566, 0.0573, 0.1316,\n",
            "         0.1321],\n",
            "        [0.1272, 0.0862, 0.1264, 0.1096, 0.1272, 0.1272, 0.0468, 0.0579, 0.0646,\n",
            "         0.1269],\n",
            "        [0.1146, 0.1277, 0.1054, 0.1232, 0.1277, 0.1256, 0.0470, 0.0480, 0.0531,\n",
            "         0.1277],\n",
            "        [0.1312, 0.0559, 0.1313, 0.1071, 0.1314, 0.0780, 0.0483, 0.0544, 0.1311,\n",
            "         0.1314],\n",
            "        [0.1333, 0.0675, 0.1334, 0.0553, 0.1326, 0.1293, 0.0491, 0.1167, 0.0495,\n",
            "         0.1334]])\n"
          ],
          "name": "stdout"
        }
      ]
    },
    {
      "cell_type": "code",
      "metadata": {
        "colab": {
          "base_uri": "https://localhost:8080/"
        },
        "id": "A83EUx_TOXEe",
        "outputId": "cad1f78f-b8e0-4de9-d729-01ffe0938c89"
      },
      "source": [
        "print(probabilities.sum())"
      ],
      "execution_count": 8,
      "outputs": [
        {
          "output_type": "stream",
          "text": [
            "tensor(64.)\n"
          ],
          "name": "stdout"
        }
      ]
    },
    {
      "cell_type": "code",
      "metadata": {
        "colab": {
          "base_uri": "https://localhost:8080/"
        },
        "id": "Vz6WGL1QOfe9",
        "outputId": "6643d77b-6d17-4a87-f70a-688ed6b840b7"
      },
      "source": [
        "print(probabilities.sum(dim = 0)) #adds all rows column wise"
      ],
      "execution_count": 9,
      "outputs": [
        {
          "output_type": "stream",
          "text": [
            "tensor([7.2568, 7.5073, 7.1445, 5.4028, 8.4143, 5.7177, 3.4778, 4.9513, 5.8278,\n",
            "        8.2997])\n"
          ],
          "name": "stdout"
        }
      ]
    },
    {
      "cell_type": "code",
      "metadata": {
        "colab": {
          "base_uri": "https://localhost:8080/"
        },
        "id": "-kY8ujrQOi7k",
        "outputId": "9d4f3f31-e01c-4bc8-c4b2-9ef2b51c7107"
      },
      "source": [
        "print(probabilities.sum(dim = 1))"
      ],
      "execution_count": 10,
      "outputs": [
        {
          "output_type": "stream",
          "text": [
            "tensor([1.0000, 1.0000, 1.0000, 1.0000, 1.0000, 1.0000, 1.0000, 1.0000, 1.0000,\n",
            "        1.0000, 1.0000, 1.0000, 1.0000, 1.0000, 1.0000, 1.0000, 1.0000, 1.0000,\n",
            "        1.0000, 1.0000, 1.0000, 1.0000, 1.0000, 1.0000, 1.0000, 1.0000, 1.0000,\n",
            "        1.0000, 1.0000, 1.0000, 1.0000, 1.0000, 1.0000, 1.0000, 1.0000, 1.0000,\n",
            "        1.0000, 1.0000, 1.0000, 1.0000, 1.0000, 1.0000, 1.0000, 1.0000, 1.0000,\n",
            "        1.0000, 1.0000, 1.0000, 1.0000, 1.0000, 1.0000, 1.0000, 1.0000, 1.0000,\n",
            "        1.0000, 1.0000, 1.0000, 1.0000, 1.0000, 1.0000, 1.0000, 1.0000, 1.0000,\n",
            "        1.0000])\n"
          ],
          "name": "stdout"
        }
      ]
    },
    {
      "cell_type": "code",
      "metadata": {
        "colab": {
          "base_uri": "https://localhost:8080/"
        },
        "id": "cm00yn5uOn3k",
        "outputId": "5c7a503a-e729-49ec-b41c-d8989ebf009f"
      },
      "source": [
        "print(probabilities.shape)"
      ],
      "execution_count": 11,
      "outputs": [
        {
          "output_type": "stream",
          "text": [
            "torch.Size([64, 10])\n"
          ],
          "name": "stdout"
        }
      ]
    },
    {
      "cell_type": "code",
      "metadata": {
        "id": "Z4O1E7r6Ow61"
      },
      "source": [
        "from  torch import nn"
      ],
      "execution_count": 12,
      "outputs": []
    },
    {
      "cell_type": "code",
      "metadata": {
        "id": "UWX8yRGQPCmk"
      },
      "source": [
        "class Network(nn.Module):\n",
        "  def __init__(self):\n",
        "    super().__init__()\n",
        "    self.hidden = nn.Linear(784,256)\n",
        "    self. output = nn.Linear(256,10)\n",
        "    self.sigmoid = nn.Sigmoid\n",
        "    self.softmax = nn.Softmax(dim =1)\n",
        "\n",
        "  def forward(self, x):\n",
        "    x= self.hidden(x)\n",
        "    x = self.sigmoid(x)\n",
        "    x = self.output(x)\n",
        "    x = self.softmax(x)\n",
        "    \n",
        "    return x"
      ],
      "execution_count": 13,
      "outputs": []
    },
    {
      "cell_type": "code",
      "metadata": {
        "colab": {
          "base_uri": "https://localhost:8080/"
        },
        "id": "b3DpCqAsPhbb",
        "outputId": "d36ad249-b660-4a9f-9497-ad6439a24a43"
      },
      "source": [
        "model = Network()\n",
        "model"
      ],
      "execution_count": 14,
      "outputs": [
        {
          "output_type": "execute_result",
          "data": {
            "text/plain": [
              "Network(\n",
              "  (hidden): Linear(in_features=784, out_features=256, bias=True)\n",
              "  (output): Linear(in_features=256, out_features=10, bias=True)\n",
              "  (softmax): Softmax(dim=1)\n",
              ")"
            ]
          },
          "metadata": {
            "tags": []
          },
          "execution_count": 14
        }
      ]
    },
    {
      "cell_type": "markdown",
      "metadata": {
        "id": "NV3DBfTKRDA1"
      },
      "source": [
        "[This link will take you to the reason why in softmax dim=1 is used](https://www.programmersought.com/article/52634648126/)\n",
        "<br>\n",
        "[See this reference also for better understanding](https://stackoverflow.com/questions/49036993/pytorch-softmax-what-dimension-to-use)"
      ]
    },
    {
      "cell_type": "code",
      "metadata": {
        "id": "zjB8LyDFPmL6"
      },
      "source": [
        "import torch.nn.functional as F\n",
        "\n",
        "class Network1(nn.Module):\n",
        "  def __init__(self):\n",
        "    super().__init__()\n",
        "    self.hidden = nn.Linear(784,256) \n",
        "    self.output = nn.Linear(256,10)\n",
        "\n",
        "  def forward(self,x):\n",
        "    x  = F.sigmoid(self.hidden(x))\n",
        "    x = F.softmax(self.output(x), dim =1)\n",
        "    return x"
      ],
      "execution_count": 15,
      "outputs": []
    },
    {
      "cell_type": "code",
      "metadata": {
        "colab": {
          "base_uri": "https://localhost:8080/"
        },
        "id": "llOFm8T7QcZb",
        "outputId": "b6931750-63c5-44ec-91f0-cb2b240f4c1e"
      },
      "source": [
        "#Exercise 1\n",
        "class Network2(nn.Module):\n",
        "  def __init__(self):\n",
        "    super().__init__()\n",
        "    self.fc1 = nn.Linear(784,128)\n",
        "    self.fc2 = nn.Linear(128,64)\n",
        "    self.out = nn.Linear(64,10)\n",
        "  \n",
        "  def forward(self,x):\n",
        "    x = F.relu(self.fc1(x))\n",
        "    x = F.relu(self.fc2(x))\n",
        "    x = F.softmax(self.out(x), dim=1)\n",
        "    return x\n",
        "\n",
        "model = Network2()\n",
        "model"
      ],
      "execution_count": 16,
      "outputs": [
        {
          "output_type": "execute_result",
          "data": {
            "text/plain": [
              "Network2(\n",
              "  (fc1): Linear(in_features=784, out_features=128, bias=True)\n",
              "  (fc2): Linear(in_features=128, out_features=64, bias=True)\n",
              "  (out): Linear(in_features=64, out_features=10, bias=True)\n",
              ")"
            ]
          },
          "metadata": {
            "tags": []
          },
          "execution_count": 16
        }
      ]
    },
    {
      "cell_type": "code",
      "metadata": {
        "colab": {
          "base_uri": "https://localhost:8080/"
        },
        "id": "MCgwdvTCSX3F",
        "outputId": "ded4a56c-9527-477a-dad0-d13c00e4c286"
      },
      "source": [
        "print(model.fc1.weight)\n",
        "print(model.fc1.bias)"
      ],
      "execution_count": 17,
      "outputs": [
        {
          "output_type": "stream",
          "text": [
            "Parameter containing:\n",
            "tensor([[-0.0296,  0.0134,  0.0106,  ...,  0.0086,  0.0120,  0.0254],\n",
            "        [-0.0232, -0.0046,  0.0340,  ..., -0.0336, -0.0267, -0.0241],\n",
            "        [ 0.0236, -0.0141, -0.0268,  ...,  0.0277, -0.0033, -0.0010],\n",
            "        ...,\n",
            "        [-0.0160,  0.0196, -0.0088,  ..., -0.0195,  0.0218,  0.0277],\n",
            "        [-0.0074, -0.0273, -0.0298,  ...,  0.0223,  0.0113, -0.0281],\n",
            "        [-0.0230, -0.0180, -0.0195,  ...,  0.0189, -0.0228,  0.0268]],\n",
            "       requires_grad=True)\n",
            "Parameter containing:\n",
            "tensor([ 0.0129,  0.0212, -0.0063, -0.0296,  0.0337, -0.0080, -0.0133,  0.0215,\n",
            "         0.0082, -0.0324, -0.0101, -0.0067,  0.0054,  0.0317, -0.0273,  0.0016,\n",
            "        -0.0146,  0.0357, -0.0216, -0.0250,  0.0024,  0.0016,  0.0182, -0.0266,\n",
            "        -0.0056, -0.0091, -0.0062,  0.0129,  0.0027,  0.0227, -0.0005, -0.0052,\n",
            "        -0.0057,  0.0016, -0.0355, -0.0191,  0.0046, -0.0005, -0.0316,  0.0228,\n",
            "         0.0202, -0.0079, -0.0188, -0.0205, -0.0180, -0.0100,  0.0191,  0.0068,\n",
            "         0.0297, -0.0107,  0.0153, -0.0300,  0.0314, -0.0273, -0.0117, -0.0160,\n",
            "         0.0293, -0.0301,  0.0248, -0.0306, -0.0220, -0.0138,  0.0242, -0.0090,\n",
            "         0.0204, -0.0127, -0.0156,  0.0295, -0.0082,  0.0333, -0.0062,  0.0124,\n",
            "        -0.0177, -0.0285, -0.0311, -0.0323, -0.0012, -0.0186,  0.0176, -0.0218,\n",
            "        -0.0002, -0.0196, -0.0321, -0.0320, -0.0231, -0.0200, -0.0143,  0.0101,\n",
            "         0.0208, -0.0177,  0.0041, -0.0350,  0.0113, -0.0073, -0.0351,  0.0256,\n",
            "        -0.0345,  0.0253,  0.0245, -0.0351, -0.0255, -0.0018, -0.0269,  0.0190,\n",
            "         0.0270, -0.0119, -0.0282,  0.0028, -0.0327, -0.0088, -0.0200, -0.0290,\n",
            "        -0.0131,  0.0049, -0.0301,  0.0334, -0.0175,  0.0230, -0.0253, -0.0355,\n",
            "         0.0273,  0.0210, -0.0115,  0.0049, -0.0278, -0.0064,  0.0103, -0.0142],\n",
            "       requires_grad=True)\n"
          ],
          "name": "stdout"
        }
      ]
    },
    {
      "cell_type": "code",
      "metadata": {
        "colab": {
          "base_uri": "https://localhost:8080/"
        },
        "id": "iWu50EtjSuA1",
        "outputId": "4ed5de3d-6cb9-4ced-d3e4-fbcd2f8418a4"
      },
      "source": [
        "model.fc1.bias.data.fill_(0)"
      ],
      "execution_count": 18,
      "outputs": [
        {
          "output_type": "execute_result",
          "data": {
            "text/plain": [
              "tensor([0., 0., 0., 0., 0., 0., 0., 0., 0., 0., 0., 0., 0., 0., 0., 0., 0., 0., 0., 0., 0., 0., 0., 0.,\n",
              "        0., 0., 0., 0., 0., 0., 0., 0., 0., 0., 0., 0., 0., 0., 0., 0., 0., 0., 0., 0., 0., 0., 0., 0.,\n",
              "        0., 0., 0., 0., 0., 0., 0., 0., 0., 0., 0., 0., 0., 0., 0., 0., 0., 0., 0., 0., 0., 0., 0., 0.,\n",
              "        0., 0., 0., 0., 0., 0., 0., 0., 0., 0., 0., 0., 0., 0., 0., 0., 0., 0., 0., 0., 0., 0., 0., 0.,\n",
              "        0., 0., 0., 0., 0., 0., 0., 0., 0., 0., 0., 0., 0., 0., 0., 0., 0., 0., 0., 0., 0., 0., 0., 0.,\n",
              "        0., 0., 0., 0., 0., 0., 0., 0.])"
            ]
          },
          "metadata": {
            "tags": []
          },
          "execution_count": 18
        }
      ]
    },
    {
      "cell_type": "code",
      "metadata": {
        "colab": {
          "base_uri": "https://localhost:8080/"
        },
        "id": "xlYHSSC1SxtV",
        "outputId": "032ca5ea-a55c-4956-8da7-0530e765b574"
      },
      "source": [
        "model.fc1.weight.data.normal_(std=0.01)"
      ],
      "execution_count": 19,
      "outputs": [
        {
          "output_type": "execute_result",
          "data": {
            "text/plain": [
              "tensor([[-0.0041, -0.0051,  0.0097,  ...,  0.0065,  0.0097,  0.0027],\n",
              "        [ 0.0023, -0.0154,  0.0060,  ..., -0.0075,  0.0183, -0.0083],\n",
              "        [ 0.0113,  0.0027, -0.0027,  ..., -0.0031, -0.0305, -0.0063],\n",
              "        ...,\n",
              "        [-0.0100, -0.0006, -0.0037,  ...,  0.0132,  0.0036,  0.0128],\n",
              "        [-0.0113,  0.0034,  0.0029,  ...,  0.0037,  0.0015, -0.0051],\n",
              "        [-0.0055, -0.0042,  0.0057,  ...,  0.0022,  0.0064, -0.0010]])"
            ]
          },
          "metadata": {
            "tags": []
          },
          "execution_count": 19
        }
      ]
    },
    {
      "cell_type": "code",
      "metadata": {
        "colab": {
          "base_uri": "https://localhost:8080/"
        },
        "id": "5fs63pKkSzmk",
        "outputId": "6fa4645d-5667-400b-fc5c-3449ff8ca60b"
      },
      "source": [
        "'''''An iterable is an object that you can iterate over.\n",
        " An Iterator is an object which is used to iterate over an iterable\n",
        "  object using the __next__ method, which returns the next item of the object.'''''\n",
        "\n",
        "\n",
        "test = (1,2,3)\n",
        "tester = iter(test)\n",
        "\n",
        "nextItem1 = next(tester)\n",
        "nextItem2 = next(tester)\n",
        "print(nextItem1)\n",
        "print(nextItem2)"
      ],
      "execution_count": 20,
      "outputs": [
        {
          "output_type": "stream",
          "text": [
            "1\n",
            "2\n"
          ],
          "name": "stdout"
        }
      ]
    },
    {
      "cell_type": "code",
      "metadata": {
        "id": "bxLIGL3lTW8L"
      },
      "source": [
        "images.resize_(64,1,784)\n",
        "img_idx = 0\n",
        "ps = model.forward(images[img_idx,:])\n",
        "img = images[img_idx]\n"
      ],
      "execution_count": 21,
      "outputs": []
    },
    {
      "cell_type": "code",
      "metadata": {
        "id": "sYzKYsSlVP-H"
      },
      "source": [
        ""
      ],
      "execution_count": 21,
      "outputs": []
    },
    {
      "cell_type": "code",
      "metadata": {
        "id": "WMVBBhZcWrK5"
      },
      "source": [
        ""
      ],
      "execution_count": 21,
      "outputs": []
    },
    {
      "cell_type": "code",
      "metadata": {
        "colab": {
          "base_uri": "https://localhost:8080/",
          "height": 252
        },
        "id": "2UqMpXkdT-d9",
        "outputId": "048dc402-b89e-42af-8549-63ec85564a4b"
      },
      "source": [
        "import helper\n",
        "helper.view_classify(img.view(1, 28, 28), ps)"
      ],
      "execution_count": 22,
      "outputs": [
        {
          "output_type": "display_data",
          "data": {
            "image/png": "[encoded data removed]",
            "text/plain": [
              "<Figure size 432x648 with 2 Axes>"
            ]
          },
          "metadata": {
            "tags": [],
            "image/png": {
              "width": 424,
              "height": 235
            },
            "needs_background": "light"
          }
        }
      ]
    },
    {
      "cell_type": "code",
      "metadata": {
        "colab": {
          "base_uri": "https://localhost:8080/"
        },
        "id": "pK4NGDv3UYsp",
        "outputId": "151caf3a-4fbb-4769-9f1a-5c05b5a86d8a"
      },
      "source": [
        "model = nn.Sequential(nn.Linear(784,128),\n",
        "nn.ReLU(),\n",
        "nn.Linear(128,64),\n",
        "nn.ReLU(), \n",
        "nn.Linear(64,10),\n",
        "nn.Softmax(dim=1))\n",
        "print(model)"
      ],
      "execution_count": 35,
      "outputs": [
        {
          "output_type": "stream",
          "text": [
            "Sequential(\n",
            "  (0): Linear(in_features=784, out_features=128, bias=True)\n",
            "  (1): ReLU()\n",
            "  (2): Linear(in_features=128, out_features=64, bias=True)\n",
            "  (3): ReLU()\n",
            "  (4): Linear(in_features=64, out_features=10, bias=True)\n",
            "  (5): Softmax(dim=1)\n",
            ")\n"
          ],
          "name": "stdout"
        }
      ]
    },
    {
      "cell_type": "code",
      "metadata": {
        "colab": {
          "base_uri": "https://localhost:8080/"
        },
        "id": "P70fAZbyYozR",
        "outputId": "98d4ffaf-42d7-45f0-87b5-98d367bf4e76"
      },
      "source": [
        "\n",
        "print(model[0])\n",
        "model[0].weight"
      ],
      "execution_count": 36,
      "outputs": [
        {
          "output_type": "stream",
          "text": [
            "Linear(in_features=784, out_features=128, bias=True)\n"
          ],
          "name": "stdout"
        },
        {
          "output_type": "execute_result",
          "data": {
            "text/plain": [
              "Parameter containing:\n",
              "tensor([[ 0.0282,  0.0308,  0.0353,  ...,  0.0032,  0.0153, -0.0199],\n",
              "        [-0.0355, -0.0091,  0.0116,  ..., -0.0217,  0.0298,  0.0149],\n",
              "        [ 0.0155, -0.0095,  0.0327,  ...,  0.0135, -0.0061, -0.0322],\n",
              "        ...,\n",
              "        [-0.0012, -0.0095,  0.0008,  ..., -0.0220,  0.0069, -0.0244],\n",
              "        [-0.0291,  0.0257, -0.0217,  ...,  0.0309,  0.0353, -0.0278],\n",
              "        [-0.0083,  0.0330,  0.0024,  ..., -0.0289, -0.0221, -0.0281]],\n",
              "       requires_grad=True)"
            ]
          },
          "metadata": {
            "tags": []
          },
          "execution_count": 36
        }
      ]
    },
    {
      "cell_type": "markdown",
      "metadata": {
        "id": "pyRR4UdkZ6AG"
      },
      "source": [
        "You can also pass in an OrderedDict to name the individual layers and operations, instead of using incremental integers. Note that dictionary keys must be unique, so each operation must have a different name."
      ]
    },
    {
      "cell_type": "code",
      "metadata": {
        "colab": {
          "base_uri": "https://localhost:8080/"
        },
        "id": "uSkn7I9OZtoq",
        "outputId": "971c1ecc-4d43-4fe6-a946-ec0ea5975668"
      },
      "source": [
        "input_size = 784\n",
        "hidden_sizes = [128, 64]\n",
        "output_size = 10\n",
        "from collections import OrderedDict\n",
        "model = nn.Sequential(OrderedDict([\n",
        "                      ('fc1', nn.Linear(input_size, hidden_sizes[0])),\n",
        "                      ('relu1', nn.ReLU()),\n",
        "                      ('fc2', nn.Linear(hidden_sizes[0], hidden_sizes[1])),\n",
        "                      ('relu2', nn.ReLU()),\n",
        "                      ('output', nn.Linear(hidden_sizes[1], output_size)),\n",
        "                      ('softmax', nn.Softmax(dim=1))]))\n",
        "model"
      ],
      "execution_count": 38,
      "outputs": [
        {
          "output_type": "execute_result",
          "data": {
            "text/plain": [
              "Sequential(\n",
              "  (fc1): Linear(in_features=784, out_features=128, bias=True)\n",
              "  (relu1): ReLU()\n",
              "  (fc2): Linear(in_features=128, out_features=64, bias=True)\n",
              "  (relu2): ReLU()\n",
              "  (output): Linear(in_features=64, out_features=10, bias=True)\n",
              "  (softmax): Softmax(dim=1)\n",
              ")"
            ]
          },
          "metadata": {
            "tags": []
          },
          "execution_count": 38
        }
      ]
    },
    {
      "cell_type": "code",
      "metadata": {
        "colab": {
          "base_uri": "https://localhost:8080/"
        },
        "id": "htuSZ01oZ70x",
        "outputId": "86d9eb81-bfea-46fe-eab3-ef0f3a5af6f1"
      },
      "source": [
        "print(model[0])\n",
        "print(model.fc1)"
      ],
      "execution_count": 40,
      "outputs": [
        {
          "output_type": "stream",
          "text": [
            "Linear(in_features=784, out_features=128, bias=True)\n",
            "Linear(in_features=784, out_features=128, bias=True)\n"
          ],
          "name": "stdout"
        }
      ]
    },
    {
      "cell_type": "code",
      "metadata": {
        "id": "02SNp-NdaCJG"
      },
      "source": [
        ""
      ],
      "execution_count": null,
      "outputs": []
    }
  ]
}